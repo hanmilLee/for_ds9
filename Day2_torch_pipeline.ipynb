{
  "nbformat": 4,
  "nbformat_minor": 0,
  "metadata": {
    "colab": {
      "name": "Day2 torch pipeline.ipynb",
      "provenance": [],
      "collapsed_sections": [],
      "include_colab_link": true
    },
    "kernelspec": {
      "name": "python3",
      "display_name": "Python 3"
    },
    "language_info": {
      "name": "python"
    },
    "accelerator": "GPU",
    "widgets": {
      "application/vnd.jupyter.widget-state+json": {
        "35cfd2c651c845dbb96a9827095455c6": {
          "model_module": "@jupyter-widgets/controls",
          "model_name": "HBoxModel",
          "model_module_version": "1.5.0",
          "state": {
            "_dom_classes": [],
            "_model_module": "@jupyter-widgets/controls",
            "_model_module_version": "1.5.0",
            "_model_name": "HBoxModel",
            "_view_count": null,
            "_view_module": "@jupyter-widgets/controls",
            "_view_module_version": "1.5.0",
            "_view_name": "HBoxView",
            "box_style": "",
            "children": [
              "IPY_MODEL_9d3b7959f9df4e73b52eda825d959840",
              "IPY_MODEL_398c3bb855244c8292f9444ba6f5a567",
              "IPY_MODEL_8d4948d0864046cdaff5a8a68eb2a872"
            ],
            "layout": "IPY_MODEL_ffe178bc54234c2d9d0169eed6db93ca"
          }
        },
        "9d3b7959f9df4e73b52eda825d959840": {
          "model_module": "@jupyter-widgets/controls",
          "model_name": "HTMLModel",
          "model_module_version": "1.5.0",
          "state": {
            "_dom_classes": [],
            "_model_module": "@jupyter-widgets/controls",
            "_model_module_version": "1.5.0",
            "_model_name": "HTMLModel",
            "_view_count": null,
            "_view_module": "@jupyter-widgets/controls",
            "_view_module_version": "1.5.0",
            "_view_name": "HTMLView",
            "description": "",
            "description_tooltip": null,
            "layout": "IPY_MODEL_835a66a1c7684e7885a9d5ecb595174b",
            "placeholder": "​",
            "style": "IPY_MODEL_f1f1c9088a98405d9912a56d504d07ff",
            "value": "100%"
          }
        },
        "398c3bb855244c8292f9444ba6f5a567": {
          "model_module": "@jupyter-widgets/controls",
          "model_name": "FloatProgressModel",
          "model_module_version": "1.5.0",
          "state": {
            "_dom_classes": [],
            "_model_module": "@jupyter-widgets/controls",
            "_model_module_version": "1.5.0",
            "_model_name": "FloatProgressModel",
            "_view_count": null,
            "_view_module": "@jupyter-widgets/controls",
            "_view_module_version": "1.5.0",
            "_view_name": "ProgressView",
            "bar_style": "success",
            "description": "",
            "description_tooltip": null,
            "layout": "IPY_MODEL_68fd1373776b4668af499b967482128d",
            "max": 2428923189,
            "min": 0,
            "orientation": "horizontal",
            "style": "IPY_MODEL_28ad0841a13e4b41a1ea34501c037d95",
            "value": 2428923189
          }
        },
        "8d4948d0864046cdaff5a8a68eb2a872": {
          "model_module": "@jupyter-widgets/controls",
          "model_name": "HTMLModel",
          "model_module_version": "1.5.0",
          "state": {
            "_dom_classes": [],
            "_model_module": "@jupyter-widgets/controls",
            "_model_module_version": "1.5.0",
            "_model_name": "HTMLModel",
            "_view_count": null,
            "_view_module": "@jupyter-widgets/controls",
            "_view_module_version": "1.5.0",
            "_view_name": "HTMLView",
            "description": "",
            "description_tooltip": null,
            "layout": "IPY_MODEL_64b489ecfa7e408589f23dcd4539ca91",
            "placeholder": "​",
            "style": "IPY_MODEL_2d1d4a217fc343318437cc0f6121947e",
            "value": " 2.26G/2.26G [00:18&lt;00:00, 152MB/s]"
          }
        },
        "ffe178bc54234c2d9d0169eed6db93ca": {
          "model_module": "@jupyter-widgets/base",
          "model_name": "LayoutModel",
          "model_module_version": "1.2.0",
          "state": {
            "_model_module": "@jupyter-widgets/base",
            "_model_module_version": "1.2.0",
            "_model_name": "LayoutModel",
            "_view_count": null,
            "_view_module": "@jupyter-widgets/base",
            "_view_module_version": "1.2.0",
            "_view_name": "LayoutView",
            "align_content": null,
            "align_items": null,
            "align_self": null,
            "border": null,
            "bottom": null,
            "display": null,
            "flex": null,
            "flex_flow": null,
            "grid_area": null,
            "grid_auto_columns": null,
            "grid_auto_flow": null,
            "grid_auto_rows": null,
            "grid_column": null,
            "grid_gap": null,
            "grid_row": null,
            "grid_template_areas": null,
            "grid_template_columns": null,
            "grid_template_rows": null,
            "height": null,
            "justify_content": null,
            "justify_items": null,
            "left": null,
            "margin": null,
            "max_height": null,
            "max_width": null,
            "min_height": null,
            "min_width": null,
            "object_fit": null,
            "object_position": null,
            "order": null,
            "overflow": null,
            "overflow_x": null,
            "overflow_y": null,
            "padding": null,
            "right": null,
            "top": null,
            "visibility": null,
            "width": null
          }
        },
        "835a66a1c7684e7885a9d5ecb595174b": {
          "model_module": "@jupyter-widgets/base",
          "model_name": "LayoutModel",
          "model_module_version": "1.2.0",
          "state": {
            "_model_module": "@jupyter-widgets/base",
            "_model_module_version": "1.2.0",
            "_model_name": "LayoutModel",
            "_view_count": null,
            "_view_module": "@jupyter-widgets/base",
            "_view_module_version": "1.2.0",
            "_view_name": "LayoutView",
            "align_content": null,
            "align_items": null,
            "align_self": null,
            "border": null,
            "bottom": null,
            "display": null,
            "flex": null,
            "flex_flow": null,
            "grid_area": null,
            "grid_auto_columns": null,
            "grid_auto_flow": null,
            "grid_auto_rows": null,
            "grid_column": null,
            "grid_gap": null,
            "grid_row": null,
            "grid_template_areas": null,
            "grid_template_columns": null,
            "grid_template_rows": null,
            "height": null,
            "justify_content": null,
            "justify_items": null,
            "left": null,
            "margin": null,
            "max_height": null,
            "max_width": null,
            "min_height": null,
            "min_width": null,
            "object_fit": null,
            "object_position": null,
            "order": null,
            "overflow": null,
            "overflow_x": null,
            "overflow_y": null,
            "padding": null,
            "right": null,
            "top": null,
            "visibility": null,
            "width": null
          }
        },
        "f1f1c9088a98405d9912a56d504d07ff": {
          "model_module": "@jupyter-widgets/controls",
          "model_name": "DescriptionStyleModel",
          "model_module_version": "1.5.0",
          "state": {
            "_model_module": "@jupyter-widgets/controls",
            "_model_module_version": "1.5.0",
            "_model_name": "DescriptionStyleModel",
            "_view_count": null,
            "_view_module": "@jupyter-widgets/base",
            "_view_module_version": "1.2.0",
            "_view_name": "StyleView",
            "description_width": ""
          }
        },
        "68fd1373776b4668af499b967482128d": {
          "model_module": "@jupyter-widgets/base",
          "model_name": "LayoutModel",
          "model_module_version": "1.2.0",
          "state": {
            "_model_module": "@jupyter-widgets/base",
            "_model_module_version": "1.2.0",
            "_model_name": "LayoutModel",
            "_view_count": null,
            "_view_module": "@jupyter-widgets/base",
            "_view_module_version": "1.2.0",
            "_view_name": "LayoutView",
            "align_content": null,
            "align_items": null,
            "align_self": null,
            "border": null,
            "bottom": null,
            "display": null,
            "flex": null,
            "flex_flow": null,
            "grid_area": null,
            "grid_auto_columns": null,
            "grid_auto_flow": null,
            "grid_auto_rows": null,
            "grid_column": null,
            "grid_gap": null,
            "grid_row": null,
            "grid_template_areas": null,
            "grid_template_columns": null,
            "grid_template_rows": null,
            "height": null,
            "justify_content": null,
            "justify_items": null,
            "left": null,
            "margin": null,
            "max_height": null,
            "max_width": null,
            "min_height": null,
            "min_width": null,
            "object_fit": null,
            "object_position": null,
            "order": null,
            "overflow": null,
            "overflow_x": null,
            "overflow_y": null,
            "padding": null,
            "right": null,
            "top": null,
            "visibility": null,
            "width": null
          }
        },
        "28ad0841a13e4b41a1ea34501c037d95": {
          "model_module": "@jupyter-widgets/controls",
          "model_name": "ProgressStyleModel",
          "model_module_version": "1.5.0",
          "state": {
            "_model_module": "@jupyter-widgets/controls",
            "_model_module_version": "1.5.0",
            "_model_name": "ProgressStyleModel",
            "_view_count": null,
            "_view_module": "@jupyter-widgets/base",
            "_view_module_version": "1.2.0",
            "_view_name": "StyleView",
            "bar_color": null,
            "description_width": ""
          }
        },
        "64b489ecfa7e408589f23dcd4539ca91": {
          "model_module": "@jupyter-widgets/base",
          "model_name": "LayoutModel",
          "model_module_version": "1.2.0",
          "state": {
            "_model_module": "@jupyter-widgets/base",
            "_model_module_version": "1.2.0",
            "_model_name": "LayoutModel",
            "_view_count": null,
            "_view_module": "@jupyter-widgets/base",
            "_view_module_version": "1.2.0",
            "_view_name": "LayoutView",
            "align_content": null,
            "align_items": null,
            "align_self": null,
            "border": null,
            "bottom": null,
            "display": null,
            "flex": null,
            "flex_flow": null,
            "grid_area": null,
            "grid_auto_columns": null,
            "grid_auto_flow": null,
            "grid_auto_rows": null,
            "grid_column": null,
            "grid_gap": null,
            "grid_row": null,
            "grid_template_areas": null,
            "grid_template_columns": null,
            "grid_template_rows": null,
            "height": null,
            "justify_content": null,
            "justify_items": null,
            "left": null,
            "margin": null,
            "max_height": null,
            "max_width": null,
            "min_height": null,
            "min_width": null,
            "object_fit": null,
            "object_position": null,
            "order": null,
            "overflow": null,
            "overflow_x": null,
            "overflow_y": null,
            "padding": null,
            "right": null,
            "top": null,
            "visibility": null,
            "width": null
          }
        },
        "2d1d4a217fc343318437cc0f6121947e": {
          "model_module": "@jupyter-widgets/controls",
          "model_name": "DescriptionStyleModel",
          "model_module_version": "1.5.0",
          "state": {
            "_model_module": "@jupyter-widgets/controls",
            "_model_module_version": "1.5.0",
            "_model_name": "DescriptionStyleModel",
            "_view_count": null,
            "_view_module": "@jupyter-widgets/base",
            "_view_module_version": "1.2.0",
            "_view_name": "StyleView",
            "description_width": ""
          }
        }
      }
    }
  },
  "cells": [
    {
      "cell_type": "markdown",
      "metadata": {
        "id": "view-in-github",
        "colab_type": "text"
      },
      "source": [
        "<a href=\"https://colab.research.google.com/github/hanmilLee/for_ds9/blob/main/Day2_torch_pipeline.ipynb\" target=\"_parent\"><img src=\"https://colab.research.google.com/assets/colab-badge.svg\" alt=\"Open In Colab\"/></a>"
      ]
    },
    {
      "cell_type": "markdown",
      "metadata": {
        "id": "jQBcvK3KRYyq"
      },
      "source": [
        "# Day2\n",
        "## Speech Command Recognition baseline with Torch\n"
      ]
    },
    {
      "cell_type": "markdown",
      "metadata": {
        "id": "_da3BxBTRdwp"
      },
      "source": [
        "패키지 설치"
      ]
    },
    {
      "cell_type": "code",
      "metadata": {
        "id": "ZpOOWsZQRbfn",
        "colab": {
          "base_uri": "https://localhost:8080/"
        },
        "outputId": "5286ba8f-a072-4702-9c64-2b37331f3a8d"
      },
      "source": [
        "!pip install torchaudio torchinfo\n",
        "!pip install einops\n",
        "# !pip install pyroomacoustics"
      ],
      "execution_count": 1,
      "outputs": [
        {
          "output_type": "stream",
          "name": "stdout",
          "text": [
            "Looking in indexes: https://pypi.org/simple, https://us-python.pkg.dev/colab-wheels/public/simple/\n",
            "Requirement already satisfied: torchaudio in /usr/local/lib/python3.7/dist-packages (0.11.0+cu113)\n",
            "Collecting torchinfo\n",
            "  Downloading torchinfo-1.7.0-py3-none-any.whl (22 kB)\n",
            "Requirement already satisfied: torch==1.11.0 in /usr/local/lib/python3.7/dist-packages (from torchaudio) (1.11.0+cu113)\n",
            "Requirement already satisfied: typing-extensions in /usr/local/lib/python3.7/dist-packages (from torch==1.11.0->torchaudio) (4.2.0)\n",
            "Installing collected packages: torchinfo\n",
            "Successfully installed torchinfo-1.7.0\n",
            "Looking in indexes: https://pypi.org/simple, https://us-python.pkg.dev/colab-wheels/public/simple/\n",
            "Collecting einops\n",
            "  Downloading einops-0.4.1-py3-none-any.whl (28 kB)\n",
            "Installing collected packages: einops\n",
            "Successfully installed einops-0.4.1\n"
          ]
        }
      ]
    },
    {
      "cell_type": "code",
      "metadata": {
        "id": "0B1r0moLRhfB"
      },
      "source": [
        "import torch\n",
        "import torch.fft\n",
        "import torch.nn as nn\n",
        "import torch.nn.functional as F\n",
        "import torchaudio\n",
        "from torchinfo import summary\n",
        "\n",
        "from torch.utils.data import Dataset\n",
        "from torch.utils.data.dataloader import DataLoader\n",
        "from torchaudio.datasets import SPEECHCOMMANDS\n",
        "\n",
        "import numpy as np\n",
        "import scipy\n",
        "from scipy import signal\n",
        "\n",
        "import soundfile as sf\n",
        "\n",
        "import librosa\n",
        "import librosa.display\n",
        "\n",
        "import matplotlib\n",
        "import matplotlib.pyplot as plt\n",
        "import IPython.display as ipd\n",
        "\n",
        "# import pyroomacoustics as pra\n",
        "\n",
        "from einops import rearrange\n",
        "\n",
        "import io\n",
        "import os\n",
        "import math\n",
        "import glob\n",
        "from tqdm import tqdm\n",
        "from collections import OrderedDict\n"
      ],
      "execution_count": 2,
      "outputs": []
    },
    {
      "cell_type": "code",
      "metadata": {
        "id": "cilVmhEfRos1",
        "colab": {
          "base_uri": "https://localhost:8080/"
        },
        "outputId": "7f153d25-9f06-4c8e-95fb-13e503469190"
      },
      "source": [
        "from google.colab import drive\n",
        "drive.mount('/content/drive')"
      ],
      "execution_count": 3,
      "outputs": [
        {
          "output_type": "stream",
          "name": "stdout",
          "text": [
            "Mounted at /content/drive\n"
          ]
        }
      ]
    },
    {
      "cell_type": "markdown",
      "metadata": {
        "id": "IgTsNMN_ZDCp"
      },
      "source": [
        "GPU 동작 확인"
      ]
    },
    {
      "cell_type": "code",
      "metadata": {
        "id": "bG0duPjpZA7J",
        "colab": {
          "base_uri": "https://localhost:8080/"
        },
        "outputId": "001804d3-e209-4fae-f3b3-87664d1b9a18"
      },
      "source": [
        "device = torch.device(\"cuda\" if torch.cuda.is_available() else \"cpu\")\n",
        "print(device)"
      ],
      "execution_count": 4,
      "outputs": [
        {
          "output_type": "stream",
          "name": "stdout",
          "text": [
            "cuda\n"
          ]
        }
      ]
    },
    {
      "cell_type": "markdown",
      "metadata": {
        "id": "6qlztqQ0TpQ0"
      },
      "source": [
        "Public dataset 경로 \\\n",
        "https://drive.google.com/drive/folders/1CJuVPfiYsI4v1BK-SakT7frf8Nv-p-bn"
      ]
    },
    {
      "cell_type": "code",
      "metadata": {
        "colab": {
          "base_uri": "https://localhost:8080/"
        },
        "id": "Eq0-6cJ2SOr2",
        "outputId": "9e44c7d9-f3a5-47ae-c373-00a5e865f34a"
      },
      "source": [
        "!ls drive/MyDrive/public_set"
      ],
      "execution_count": 5,
      "outputs": [
        {
          "output_type": "stream",
          "name": "stdout",
          "text": [
            "npy  wav\n"
          ]
        }
      ]
    },
    {
      "cell_type": "code",
      "metadata": {
        "colab": {
          "base_uri": "https://localhost:8080/"
        },
        "id": "dnW37bJ7Siwn",
        "outputId": "b072af7b-28fc-42f2-a00b-7ec9a8ec4f13"
      },
      "source": [
        "!ls drive/MyDrive/public_set/npy"
      ],
      "execution_count": 6,
      "outputs": [
        {
          "output_type": "stream",
          "name": "stdout",
          "text": [
            "0  1  2\n"
          ]
        }
      ]
    },
    {
      "cell_type": "markdown",
      "metadata": {
        "id": "vmagb4oIUy2q"
      },
      "source": [
        "Train / Valid set Download"
      ]
    },
    {
      "cell_type": "code",
      "metadata": {
        "colab": {
          "base_uri": "https://localhost:8080/",
          "height": 67,
          "referenced_widgets": [
            "35cfd2c651c845dbb96a9827095455c6",
            "9d3b7959f9df4e73b52eda825d959840",
            "398c3bb855244c8292f9444ba6f5a567",
            "8d4948d0864046cdaff5a8a68eb2a872",
            "ffe178bc54234c2d9d0169eed6db93ca",
            "835a66a1c7684e7885a9d5ecb595174b",
            "f1f1c9088a98405d9912a56d504d07ff",
            "68fd1373776b4668af499b967482128d",
            "28ad0841a13e4b41a1ea34501c037d95",
            "64b489ecfa7e408589f23dcd4539ca91",
            "2d1d4a217fc343318437cc0f6121947e"
          ]
        },
        "id": "P_4F5LwOUyM0",
        "outputId": "f6926129-11cd-4150-d9c7-36211dd02bbf"
      },
      "source": [
        "train_set = torchaudio.datasets.SPEECHCOMMANDS(root = '', download = True, subset = \"training\")\n",
        "valid_set = torchaudio.datasets.SPEECHCOMMANDS(root = '', download = True, subset = \"validation\")\n",
        "\n",
        "waveform, sample_rate, label, speaker_id, utterance_number = train_set[0]\n",
        "print(train_set[0])"
      ],
      "execution_count": 7,
      "outputs": [
        {
          "output_type": "display_data",
          "data": {
            "text/plain": [
              "  0%|          | 0.00/2.26G [00:00<?, ?B/s]"
            ],
            "application/vnd.jupyter.widget-view+json": {
              "version_major": 2,
              "version_minor": 0,
              "model_id": "35cfd2c651c845dbb96a9827095455c6"
            }
          },
          "metadata": {}
        },
        {
          "output_type": "stream",
          "name": "stdout",
          "text": [
            "(tensor([[-0.0658, -0.0709, -0.0753,  ..., -0.0700, -0.0731, -0.0704]]), 16000, 'backward', '0165e0e8', 0)\n"
          ]
        }
      ]
    },
    {
      "cell_type": "code",
      "metadata": {
        "colab": {
          "base_uri": "https://localhost:8080/"
        },
        "id": "FloFY6xyXdZk",
        "outputId": "ddd37d1d-d29e-47e6-82a8-3e32208b4457"
      },
      "source": [
        "labels = sorted(list(set(datapoint[2] for datapoint in valid_set)))\n",
        "\n",
        "def label_to_index(word):\n",
        "    return torch.tensor(labels.index(word))\n",
        "    \n",
        "print(' '.join(['{} {}'.format(label_to_index(label), label) for label in labels]))"
      ],
      "execution_count": 8,
      "outputs": [
        {
          "output_type": "stream",
          "name": "stdout",
          "text": [
            "0 backward 1 bed 2 bird 3 cat 4 dog 5 down 6 eight 7 five 8 follow 9 forward 10 four 11 go 12 happy 13 house 14 learn 15 left 16 marvin 17 nine 18 no 19 off 20 on 21 one 22 right 23 seven 24 sheila 25 six 26 stop 27 three 28 tree 29 two 30 up 31 visual 32 wow 33 yes 34 zero\n"
          ]
        }
      ]
    },
    {
      "cell_type": "markdown",
      "metadata": {
        "id": "9H1UQS-AgRty"
      },
      "source": [
        "Torch Dataset"
      ]
    },
    {
      "cell_type": "code",
      "metadata": {
        "id": "umprmaoTTlaQ"
      },
      "source": [
        "class Custom_CommandDataset(Dataset):\n",
        "    def __init__(self, dataset):\n",
        "        super().__init__()\n",
        "        self.command_dataset = dataset\n",
        "\n",
        "    def __getitem__(self, idx):\n",
        "        raw_wav = self.command_dataset[idx][0][0]\n",
        "        raw_wav_pad = np.pad(raw_wav, (0, 16000 - raw_wav.shape[-1]))\n",
        "\n",
        "        label_word = self.command_dataset[idx][2]\n",
        "        label_index = label_to_index(label_word)\n",
        "        # 여기서 데이터 처리 (CPU에서 진행된다. 메모리에 파일 올려놓았다가 여기서 처리하는게 효율적일 것이다.)\n",
        "\n",
        "        return np.expand_dims(raw_wav_pad, 0), label_index\n",
        "\n",
        "    def __len__(self):\n",
        "        return len(self.command_dataset)\n",
        "\n",
        "train_set_custom = Custom_CommandDataset(train_set)\n",
        "valid_set_custom = Custom_CommandDataset(valid_set)"
      ],
      "execution_count": 9,
      "outputs": []
    },
    {
      "cell_type": "code",
      "metadata": {
        "colab": {
          "base_uri": "https://localhost:8080/",
          "height": 93
        },
        "id": "hcgxQfU_VfJR",
        "outputId": "f4fcc73f-00e6-475a-9007-65e31af6ed06"
      },
      "source": [
        "# 확인용\n",
        "data = train_set_custom[7203]\n",
        "print(data[1])\n",
        "ipd.Audio(data[0], rate=16000)"
      ],
      "execution_count": 10,
      "outputs": [
        {
          "output_type": "stream",
          "name": "stdout",
          "text": [
            "tensor(4)\n"
          ]
        },
        {
          "output_type": "execute_result",
          "data": {
            "text/plain": [
              "<IPython.lib.display.Audio object>"
            ],
            "text/html": [
              "\n",
              "                <audio controls=\"controls\" >\n",
              "                    <source src=\"data:audio/wav;base64,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\" type=\"audio/wav\" />\n",
              "                    Your browser does not support the audio element.\n",
              "                </audio>\n",
              "              "
            ]
          },
          "metadata": {},
          "execution_count": 10
        }
      ]
    },
    {
      "cell_type": "markdown",
      "metadata": {
        "id": "y8TQzYD_a8aP"
      },
      "source": [
        "Data Loader"
      ]
    },
    {
      "cell_type": "code",
      "metadata": {
        "id": "JKTOGhc0Wisp"
      },
      "source": [
        "batch_size = 32\n",
        "train_loader = DataLoader(train_set_custom, \n",
        "                          batch_size = batch_size, \n",
        "                          shuffle = True, \n",
        "                          pin_memory = True, \n",
        "                          num_workers = 2, \n",
        "                          worker_init_fn = lambda _: np.random.seed())\n",
        "\n",
        "valid_loader = DataLoader(valid_set_custom, \n",
        "                          batch_size = batch_size, \n",
        "                          shuffle = False, \n",
        "                          pin_memory = True, \n",
        "                          num_workers = 2, \n",
        "                          worker_init_fn = lambda _: np.random.seed())"
      ],
      "execution_count": 11,
      "outputs": []
    },
    {
      "cell_type": "markdown",
      "metadata": {
        "id": "2EtN6332a91u"
      },
      "source": [
        "Train / Valid 함수"
      ]
    },
    {
      "cell_type": "code",
      "metadata": {
        "id": "qWbD3hfva_oN"
      },
      "source": [
        "def number_of_correct(pred, target):\n",
        "    return pred.squeeze().eq(target).sum().item()\n",
        "\n",
        "def get_likely_index(tensor):\n",
        "    return tensor.argmax(dim=-1)\n",
        "    \n",
        "def train(model, ep, opt, lossmod):\n",
        "    model.train()\n",
        "    losses = []\n",
        "    for batch_idx, (wav, label) in enumerate(tqdm(train_loader, position = 0)):\n",
        "        wav, label = wav.to(device), label.to(device)\n",
        "        \n",
        "        z = net(wav)\n",
        "        loss = lossmod(z, label)\n",
        "        opt.zero_grad()\n",
        "        loss.backward()\n",
        "        opt.step()\n",
        "\n",
        "        losses.append(loss.item())\n",
        "    print('Epoch: {} Loss: {:.4f}'.format(ep, np.average(losses)))\n",
        "\n",
        "def validation(model, ep):\n",
        "    model.eval()\n",
        "    correct = 0\n",
        "    losses = []\n",
        "    for data, target in tqdm(valid_loader, position = 0):\n",
        "        data = data.to(device)\n",
        "        target = target.to(device)\n",
        "\n",
        "        output = net(data)\n",
        "\n",
        "        pred = get_likely_index(output)\n",
        "        correct += number_of_correct(pred, target)\n",
        "    \n",
        "    print(\"Valid epoch: {}, acc: {:.4f}\".format(ep, correct / len(valid_set)))"
      ],
      "execution_count": 12,
      "outputs": []
    },
    {
      "cell_type": "markdown",
      "metadata": {
        "id": "1NzM4VeNZWQN"
      },
      "source": [
        "Model : 2D CNN"
      ]
    },
    {
      "cell_type": "code",
      "metadata": {
        "id": "8qy9I16WY6ov"
      },
      "source": [
        "class ConvBlock2D(nn.Module):\n",
        "    def __init__(self, c_i, c_o, k = 3, s = 1, pool_k = 2):\n",
        "        super().__init__()\n",
        "        self.block = nn.Sequential(nn.Conv2d(c_i, c_o, k, s),\n",
        "                                   nn.BatchNorm2d(c_o),\n",
        "                                   nn.ReLU(),\n",
        "                                   nn.MaxPool2d(pool_k))\n",
        "    def forward(self, x):\n",
        "        return self.block(x)\n",
        "\n",
        "class CNN2D(nn.Module):\n",
        "    def __init__(self, c_in, c, num_classes):\n",
        "        super().__init__()\n",
        "        self.spec = torchaudio.transforms.MelSpectrogram(sample_rate = 16000, n_fft = 1024, hop_length=256, n_mels = 128)\n",
        "        self.convnet = nn.Sequential(ConvBlock2D(c_in, c),\n",
        "                                     ConvBlock2D(c, c),\n",
        "                                     ConvBlock2D(c, 2 * c),\n",
        "                                     ConvBlock2D(2 * c, 2 * c))\n",
        "        self.linear = nn.Linear(2 * c, num_classes)\n",
        "    \n",
        "    def forward(self, x):\n",
        "        x = torch.log10(self.spec(x) + 1e-5) # log-mel spectrogram: 1D audio -> 2D image-like representation\n",
        "        z = self.convnet(x) # log-mel spec -> 2D CNN -> feature map C x F x T \n",
        "        z = rearrange(F.avg_pool2d(z, z.shape[-2:]), 'b c 1 1 -> b c') # feature map C x F x T -> feature C x 1 x 1\n",
        "        z = self.linear(z) # feature C -> logit N\n",
        "        return z"
      ],
      "execution_count": 13,
      "outputs": []
    },
    {
      "cell_type": "code",
      "metadata": {
        "colab": {
          "base_uri": "https://localhost:8080/"
        },
        "id": "o1UNxz1TZdnf",
        "outputId": "a040937c-c040-42d0-ed85-fa66b03c4491"
      },
      "source": [
        "net = CNN2D(c_in = 1, c = 128, num_classes = len(labels)).to(device)\n",
        "summary(net, (1, 1, 16000))"
      ],
      "execution_count": 14,
      "outputs": [
        {
          "output_type": "execute_result",
          "data": {
            "text/plain": [
              "==========================================================================================\n",
              "Layer (type:depth-idx)                   Output Shape              Param #\n",
              "==========================================================================================\n",
              "CNN2D                                    [1, 35]                   --\n",
              "├─MelSpectrogram: 1-1                    [1, 1, 128, 63]           --\n",
              "│    └─Spectrogram: 2-1                  [1, 1, 513, 63]           --\n",
              "│    └─MelScale: 2-2                     [1, 1, 128, 63]           --\n",
              "├─Sequential: 1-2                        [1, 256, 6, 2]            --\n",
              "│    └─ConvBlock2D: 2-3                  [1, 128, 63, 30]          --\n",
              "│    │    └─Sequential: 3-1              [1, 128, 63, 30]          1,536\n",
              "│    └─ConvBlock2D: 2-4                  [1, 128, 30, 14]          --\n",
              "│    │    └─Sequential: 3-2              [1, 128, 30, 14]          147,840\n",
              "│    └─ConvBlock2D: 2-5                  [1, 256, 14, 6]           --\n",
              "│    │    └─Sequential: 3-3              [1, 256, 14, 6]           295,680\n",
              "│    └─ConvBlock2D: 2-6                  [1, 256, 6, 2]            --\n",
              "│    │    └─Sequential: 3-4              [1, 256, 6, 2]            590,592\n",
              "├─Linear: 1-3                            [1, 35]                   8,995\n",
              "==========================================================================================\n",
              "Total params: 1,044,643\n",
              "Trainable params: 1,044,643\n",
              "Non-trainable params: 0\n",
              "Total mult-adds (M): 389.42\n",
              "==========================================================================================\n",
              "Input size (MB): 0.06\n",
              "Forward/backward pass size (MB): 20.81\n",
              "Params size (MB): 4.18\n",
              "Estimated Total Size (MB): 25.05\n",
              "=========================================================================================="
            ]
          },
          "metadata": {},
          "execution_count": 14
        }
      ]
    },
    {
      "cell_type": "markdown",
      "metadata": {
        "id": "jZgPlGFFesjh"
      },
      "source": [
        "Training : 2D CNN"
      ]
    },
    {
      "cell_type": "code",
      "metadata": {
        "colab": {
          "base_uri": "https://localhost:8080/"
        },
        "id": "WliukPUddv6U",
        "outputId": "a2ea2c1d-70c7-4d23-8629-c5b6a391d2b7"
      },
      "source": [
        "n_epoch = 10\n",
        "opt = torch.optim.Adam(net.parameters(), lr = 1e-3)\n",
        "ce = nn.CrossEntropyLoss()\n",
        "for epoch in range(1, n_epoch + 1):\n",
        "    train(net, epoch, opt, ce)\n",
        "    validation(net, epoch)"
      ],
      "execution_count": 15,
      "outputs": [
        {
          "output_type": "stream",
          "name": "stderr",
          "text": [
            "100%|██████████| 2652/2652 [01:15<00:00, 35.28it/s]\n"
          ]
        },
        {
          "output_type": "stream",
          "name": "stdout",
          "text": [
            "Epoch: 1 Loss: 1.1543\n"
          ]
        },
        {
          "output_type": "stream",
          "name": "stderr",
          "text": [
            "100%|██████████| 312/312 [00:10<00:00, 30.35it/s]\n"
          ]
        },
        {
          "output_type": "stream",
          "name": "stdout",
          "text": [
            "Valid epoch: 1, acc: 0.8303\n"
          ]
        },
        {
          "output_type": "stream",
          "name": "stderr",
          "text": [
            "100%|██████████| 2652/2652 [00:56<00:00, 47.12it/s]\n"
          ]
        },
        {
          "output_type": "stream",
          "name": "stdout",
          "text": [
            "Epoch: 2 Loss: 0.4815\n"
          ]
        },
        {
          "output_type": "stream",
          "name": "stderr",
          "text": [
            "100%|██████████| 312/312 [00:05<00:00, 53.26it/s]\n"
          ]
        },
        {
          "output_type": "stream",
          "name": "stdout",
          "text": [
            "Valid epoch: 2, acc: 0.8643\n"
          ]
        },
        {
          "output_type": "stream",
          "name": "stderr",
          "text": [
            "100%|██████████| 2652/2652 [00:56<00:00, 46.90it/s]\n"
          ]
        },
        {
          "output_type": "stream",
          "name": "stdout",
          "text": [
            "Epoch: 3 Loss: 0.3633\n"
          ]
        },
        {
          "output_type": "stream",
          "name": "stderr",
          "text": [
            "100%|██████████| 312/312 [00:05<00:00, 54.21it/s]\n"
          ]
        },
        {
          "output_type": "stream",
          "name": "stdout",
          "text": [
            "Valid epoch: 3, acc: 0.8963\n"
          ]
        },
        {
          "output_type": "stream",
          "name": "stderr",
          "text": [
            "100%|██████████| 2652/2652 [00:56<00:00, 47.15it/s]\n"
          ]
        },
        {
          "output_type": "stream",
          "name": "stdout",
          "text": [
            "Epoch: 4 Loss: 0.2939\n"
          ]
        },
        {
          "output_type": "stream",
          "name": "stderr",
          "text": [
            "100%|██████████| 312/312 [00:05<00:00, 53.06it/s]\n"
          ]
        },
        {
          "output_type": "stream",
          "name": "stdout",
          "text": [
            "Valid epoch: 4, acc: 0.8987\n"
          ]
        },
        {
          "output_type": "stream",
          "name": "stderr",
          "text": [
            "100%|██████████| 2652/2652 [00:57<00:00, 45.93it/s]\n"
          ]
        },
        {
          "output_type": "stream",
          "name": "stdout",
          "text": [
            "Epoch: 5 Loss: 0.2400\n"
          ]
        },
        {
          "output_type": "stream",
          "name": "stderr",
          "text": [
            "100%|██████████| 312/312 [00:05<00:00, 54.21it/s]\n"
          ]
        },
        {
          "output_type": "stream",
          "name": "stdout",
          "text": [
            "Valid epoch: 5, acc: 0.9260\n"
          ]
        },
        {
          "output_type": "stream",
          "name": "stderr",
          "text": [
            "100%|██████████| 2652/2652 [00:56<00:00, 46.90it/s]\n"
          ]
        },
        {
          "output_type": "stream",
          "name": "stdout",
          "text": [
            "Epoch: 6 Loss: 0.2018\n"
          ]
        },
        {
          "output_type": "stream",
          "name": "stderr",
          "text": [
            "100%|██████████| 312/312 [00:05<00:00, 54.28it/s]\n"
          ]
        },
        {
          "output_type": "stream",
          "name": "stdout",
          "text": [
            "Valid epoch: 6, acc: 0.9188\n"
          ]
        },
        {
          "output_type": "stream",
          "name": "stderr",
          "text": [
            "100%|██████████| 2652/2652 [00:55<00:00, 47.46it/s]\n"
          ]
        },
        {
          "output_type": "stream",
          "name": "stdout",
          "text": [
            "Epoch: 7 Loss: 0.1718\n"
          ]
        },
        {
          "output_type": "stream",
          "name": "stderr",
          "text": [
            "100%|██████████| 312/312 [00:05<00:00, 54.35it/s]\n"
          ]
        },
        {
          "output_type": "stream",
          "name": "stdout",
          "text": [
            "Valid epoch: 7, acc: 0.9149\n"
          ]
        },
        {
          "output_type": "stream",
          "name": "stderr",
          "text": [
            "100%|██████████| 2652/2652 [00:56<00:00, 47.31it/s]\n"
          ]
        },
        {
          "output_type": "stream",
          "name": "stdout",
          "text": [
            "Epoch: 8 Loss: 0.1480\n"
          ]
        },
        {
          "output_type": "stream",
          "name": "stderr",
          "text": [
            "100%|██████████| 312/312 [00:05<00:00, 53.94it/s]\n"
          ]
        },
        {
          "output_type": "stream",
          "name": "stdout",
          "text": [
            "Valid epoch: 8, acc: 0.9243\n"
          ]
        },
        {
          "output_type": "stream",
          "name": "stderr",
          "text": [
            "100%|██████████| 2652/2652 [00:57<00:00, 46.26it/s]\n"
          ]
        },
        {
          "output_type": "stream",
          "name": "stdout",
          "text": [
            "Epoch: 9 Loss: 0.1282\n"
          ]
        },
        {
          "output_type": "stream",
          "name": "stderr",
          "text": [
            "100%|██████████| 312/312 [00:05<00:00, 53.16it/s]\n"
          ]
        },
        {
          "output_type": "stream",
          "name": "stdout",
          "text": [
            "Valid epoch: 9, acc: 0.9243\n"
          ]
        },
        {
          "output_type": "stream",
          "name": "stderr",
          "text": [
            "100%|██████████| 2652/2652 [01:01<00:00, 42.96it/s]\n"
          ]
        },
        {
          "output_type": "stream",
          "name": "stdout",
          "text": [
            "Epoch: 10 Loss: 0.1133\n"
          ]
        },
        {
          "output_type": "stream",
          "name": "stderr",
          "text": [
            "100%|██████████| 312/312 [00:05<00:00, 54.69it/s]"
          ]
        },
        {
          "output_type": "stream",
          "name": "stdout",
          "text": [
            "Valid epoch: 10, acc: 0.9141\n"
          ]
        },
        {
          "output_type": "stream",
          "name": "stderr",
          "text": [
            "\n"
          ]
        }
      ]
    },
    {
      "cell_type": "markdown",
      "metadata": {
        "id": "7gEYsh_shhx1"
      },
      "source": [
        "For Evaluation"
      ]
    },
    {
      "cell_type": "code",
      "metadata": {
        "colab": {
          "base_uri": "https://localhost:8080/"
        },
        "id": "Tg0rmfcOiWvI",
        "outputId": "607a405a-0af5-4c49-ae44-bb7d99491d5f"
      },
      "source": [
        "!ls drive/MyDrive/public_set/npy\n",
        "\n",
        "ㅁㄴㅇ"
      ],
      "execution_count": 16,
      "outputs": [
        {
          "output_type": "stream",
          "name": "stdout",
          "text": [
            "0  1  2\n"
          ]
        }
      ]
    },
    {
      "cell_type": "code",
      "source": [
        ""
      ],
      "metadata": {
        "id": "FtJtnT9JMidX"
      },
      "execution_count": null,
      "outputs": []
    },
    {
      "cell_type": "code",
      "metadata": {
        "id": "Y6Fwf00WhzS3"
      },
      "source": [
        "public_testset_dir = 'drive/MyDrive/public_set/npy'\n",
        "folder = '1'"
      ],
      "execution_count": 17,
      "outputs": []
    },
    {
      "cell_type": "code",
      "metadata": {
        "id": "9_bbRL9KicAk"
      },
      "source": [
        "wav_npy_list = glob.glob(os.path.join(public_testset_dir, folder, '*.npy'))\n",
        "wav_npy_list.sort()\n",
        "wav_npy_list = wav_npy_list[:-1]\n",
        "\n",
        "ans_npy = np.load(os.path.join(public_testset_dir, folder, 'ans.npy'))"
      ],
      "execution_count": 18,
      "outputs": []
    },
    {
      "cell_type": "code",
      "metadata": {
        "colab": {
          "base_uri": "https://localhost:8080/"
        },
        "id": "nBa1olbRhjdB",
        "outputId": "6e2c2845-17e7-4dcd-b7fa-fc0275d621df"
      },
      "source": [
        "with torch.no_grad():\n",
        "    correct = 0\n",
        "    net.eval()\n",
        "    preds = []\n",
        "    for i, wav_npy_dir in enumerate(tqdm(wav_npy_list, position = 0, leave = True)):\n",
        "        wav_npy = np.load(wav_npy_dir)\n",
        "        wav_npy = torch.tensor(np.reshape(wav_npy, (1, 1, wav_npy.shape[0]))).to(device)\n",
        "        ans = torch.tensor(ans_npy).to(device)\n",
        "        \n",
        "        output = net(wav_npy)\n",
        "\n",
        "        pred = get_likely_index(output)\n",
        "        correct += number_of_correct(pred, ans[i])        \n",
        "\n",
        "        preds.append(pred.detach().cpu().numpy()[0])\n",
        "    print(\"Acc: {:.4f}\".format(correct / len(wav_npy_list)))"
      ],
      "execution_count": 19,
      "outputs": [
        {
          "output_type": "stream",
          "name": "stderr",
          "text": [
            "100%|██████████| 51/51 [00:19<00:00,  2.64it/s]"
          ]
        },
        {
          "output_type": "stream",
          "name": "stdout",
          "text": [
            "Acc: 0.4706\n"
          ]
        },
        {
          "output_type": "stream",
          "name": "stderr",
          "text": [
            "\n"
          ]
        }
      ]
    },
    {
      "cell_type": "code",
      "source": [
        "pred.detach().cpu().numpy()[0]"
      ],
      "metadata": {
        "colab": {
          "base_uri": "https://localhost:8080/"
        },
        "id": "FVpH0qlSV7ZN",
        "outputId": "9602fc33-05d1-46c5-a78d-3dc1868c9bb3"
      },
      "execution_count": 20,
      "outputs": [
        {
          "output_type": "execute_result",
          "data": {
            "text/plain": [
              "26"
            ]
          },
          "metadata": {},
          "execution_count": 20
        }
      ]
    },
    {
      "cell_type": "markdown",
      "metadata": {
        "id": "FwK0sihJqxwW"
      },
      "source": [
        "Save predict.npy \\\n",
        "data shape을 꼭 확인하세요!"
      ]
    },
    {
      "cell_type": "code",
      "metadata": {
        "id": "OOhd9k0ZqxAq"
      },
      "source": [
        "# np.save('predict.npy', np.asarray(preds))"
      ],
      "execution_count": 21,
      "outputs": []
    }
  ]
}